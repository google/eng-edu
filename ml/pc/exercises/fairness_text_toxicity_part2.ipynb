{
  "cells": [
    {
      "cell_type": "markdown",
      "metadata": {},
      "source": [
        "### This Colab was deprecated July 2024."
      ]
    }
  ],
  "metadata": {
    "colab": {
      "collapsed_sections": [
        "dV10ovJif-A3",
        "Amp8qxOA7d5R",
        "KJob8ZofVnUC",
        "I-SJbapBEXPe"
      ],
      "name": "Fairness Exercise 2: Remediate Bias",
      "provenance": []
    },
    "kernelspec": {
      "display_name": "Python 3",
      "name": "python3"
    }
  },
  "nbformat": 4,
  "nbformat_minor": 0
}
