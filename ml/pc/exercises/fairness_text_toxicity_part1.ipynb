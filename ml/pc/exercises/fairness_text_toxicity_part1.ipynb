{
  "cells": [
    {
      "cell_type": "markdown",
      "metadata": {},
      "source": [
        "### This Colab was deprecated July 2024."
      ]
    }
  ],
  "metadata": {
    "colab": {
      "collapsed_sections": [
        "J3R2QWkru1WN",
        "UFBqqnRD-Zkj",
        "6KmrCS-uAz0s",
        "IvvxNMgM-6A2",
        "-J4hbOhgHZid",
        "tGyACRd8oFwP",
        "FQGWSdrJy08B",
        "LlkfgynX0yfF",
        "FBhBsevUOinO",
        "P5MBQR7EF6ny",
        "OaL3qgHCcmwG"
      ],
      "name": "Fairness Exercise 1: Explore the Model",
      "provenance": []
    },
    "kernelspec": {
      "display_name": "Python 3",
      "name": "python3"
    }
  },
  "nbformat": 4,
  "nbformat_minor": 0
}
