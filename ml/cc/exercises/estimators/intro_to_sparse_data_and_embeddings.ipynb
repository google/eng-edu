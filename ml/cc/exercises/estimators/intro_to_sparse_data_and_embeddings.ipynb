{
  "cells": [
    {
      "cell_type": "markdown",
      "metadata": {
        "colab_type": "text",
        "id": "PTaAdgy3LS8W"
      },
      "source": [
        "# Intro to Sparse Data and Embeddings\n",
        "\n",
        "The \"Intro to Sparse Data and Embeddings\" Colab is deprecated. For the list of current Colabs, see the [Programming tab on the Exercises page](https://developers.google.com/machine-learning/crash-course/exercises#programming)."
      ]
    }
  ],
  "metadata": {
    "colab": {
      "collapsed_sections": [
        "JndnmDMp66FL",
        "mNCLhxsXyOIS",
        "eQS5KQzBybTY"
      ],
      "default_view": {},
      "name": "intro_to_sparse_data_and_embeddings.ipynb",
      "provenance": [],
      "version": "0.3.2",
      "views": {}
    },
    "kernelspec": {
      "display_name": "Python 3",
      "name": "python3"
    }
  },
  "nbformat": 4,
  "nbformat_minor": 0
}
