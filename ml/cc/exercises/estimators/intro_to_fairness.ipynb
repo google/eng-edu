{
  "cells": [
    {
      "cell_type": "markdown",
      "metadata": {
        "colab_type": "text",
        "id": "84x4Fxc5lzFv"
      },
      "source": [
        "# Intro to ML Fairness\n",
        "***"
      ]
    },
    {
      "cell_type": "markdown",
      "metadata": {
        "colab_type": "text",
        "id": "J8daw3YOIAXH"
      },
      "source": [
        "For the current exercise, see [Introduction to Fairness in ML](https://colab.research.google.com/github/google/eng-edu/blob/main/ml/cc/exercises/intro_to_ml_fairness.ipynb)."
      ]
    }
  ],
  "metadata": {
    "colab": {
      "collapsed_sections": [
        "KlF-lQ8yQ69b",
        "qZ-9vJgSEpHj",
        "TF3B5h3c-7Fb"
      ],
      "name": "intro_to_fairness.ipynb",
      "provenance": [],
      "version": "0.3.2"
    },
    "kernelspec": {
      "display_name": "Python 3",
      "name": "python3"
    }
  },
  "nbformat": 4,
  "nbformat_minor": 0
}
