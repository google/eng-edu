{
  "cells": [
    {
      "cell_type": "markdown",
      "metadata": {},
      "source": [
        "### This Colab was deprecated July 2024."
      ]
    }
  ],
  "metadata": {
    "colab": {
      "collapsed_sections": [
        "9EjQt_o9Xf_L",
        "tj67XUzmjuNK"
      ],
      "name": "Colab - Manual Similarity with Chocolates",
      "provenance": [],
      "version": "0.3.2"
    },
    "language_info": {
      "name": "python"
    }
  },
  "nbformat": 4,
  "nbformat_minor": 0
}
