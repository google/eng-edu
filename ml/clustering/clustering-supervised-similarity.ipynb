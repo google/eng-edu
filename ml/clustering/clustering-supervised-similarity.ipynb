{
  "cells": [
    {
      "cell_type": "markdown",
      "metadata": {},
      "source": [
        "### This Colab was deprecated July 2024."
      ]
    }
  ],
  "metadata": {
    "colab": {
      "collapsed_sections": [
        "9EjQt_o9Xf_L",
        "MJtuP9w5jJHq"
      ],
      "name": "Clustering - Supervised Similarity with Chocolates",
      "provenance": []
    },
    "kernelspec": {
      "display_name": "Python 3",
      "name": "python3"
    }
  },
  "nbformat": 4,
  "nbformat_minor": 0
}
